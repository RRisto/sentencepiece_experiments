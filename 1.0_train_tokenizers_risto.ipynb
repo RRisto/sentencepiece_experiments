{
 "cells": [
  {
   "cell_type": "code",
   "execution_count": 1,
   "metadata": {},
   "outputs": [],
   "source": [
    "from pathlib import Path\n",
    "import sentencepiece as spm\n",
    "import pandas as pd"
   ]
  },
  {
   "cell_type": "markdown",
   "metadata": {},
   "source": [
    "## Data"
   ]
  },
  {
   "cell_type": "code",
   "execution_count": 2,
   "metadata": {},
   "outputs": [
    {
     "data": {
      "text/plain": [
       "(131337, 9)"
      ]
     },
     "execution_count": 2,
     "metadata": {},
     "output_type": "execute_result"
    }
   ],
   "source": [
    "#stenograms of Riigikogu\n",
    "df=pd.read_csv('data/raw/stenos.csv')\n",
    "df.shape"
   ]
  },
  {
   "cell_type": "code",
   "execution_count": 3,
   "metadata": {},
   "outputs": [
    {
     "data": {
      "text/html": [
       "<div>\n",
       "<style scoped>\n",
       "    .dataframe tbody tr th:only-of-type {\n",
       "        vertical-align: middle;\n",
       "    }\n",
       "\n",
       "    .dataframe tbody tr th {\n",
       "        vertical-align: top;\n",
       "    }\n",
       "\n",
       "    .dataframe thead th {\n",
       "        text-align: right;\n",
       "    }\n",
       "</style>\n",
       "<table border=\"1\" class=\"dataframe\">\n",
       "  <thead>\n",
       "    <tr style=\"text-align: right;\">\n",
       "      <th></th>\n",
       "      <th>heading</th>\n",
       "      <th>link</th>\n",
       "      <th>speaker</th>\n",
       "      <th>subpart_id</th>\n",
       "      <th>text</th>\n",
       "      <th>year</th>\n",
       "      <th>month</th>\n",
       "      <th>day</th>\n",
       "      <th>time</th>\n",
       "    </tr>\n",
       "  </thead>\n",
       "  <tbody>\n",
       "    <tr>\n",
       "      <th>0</th>\n",
       "      <td>14:00 Istungi rakendamine</td>\n",
       "      <td>http://stenogrammid.riigikogu.ee/et/201712061400</td>\n",
       "      <td>Esimees Eiki Nestor</td>\n",
       "      <td>PKP-21949</td>\n",
       "      <td>Austatud Riigikogu, tere päevast! Teate mis, s...</td>\n",
       "      <td>2017</td>\n",
       "      <td>12</td>\n",
       "      <td>6</td>\n",
       "      <td>14:00</td>\n",
       "    </tr>\n",
       "    <tr>\n",
       "      <th>1</th>\n",
       "      <td>14:00 Istungi rakendamine</td>\n",
       "      <td>http://stenogrammid.riigikogu.ee/et/201712061400</td>\n",
       "      <td>Priit Sibul</td>\n",
       "      <td>PKP-21949</td>\n",
       "      <td>Austatud Riigikogu esimees! Head kolleegid! An...</td>\n",
       "      <td>2017</td>\n",
       "      <td>12</td>\n",
       "      <td>6</td>\n",
       "      <td>14:00</td>\n",
       "    </tr>\n",
       "    <tr>\n",
       "      <th>2</th>\n",
       "      <td>14:00 Istungi rakendamine</td>\n",
       "      <td>http://stenogrammid.riigikogu.ee/et/201712061400</td>\n",
       "      <td>Esimees Eiki Nestor</td>\n",
       "      <td>PKP-21949</td>\n",
       "      <td>Rohkem soove ei ole. Olen vastu võtnud kaks ee...</td>\n",
       "      <td>2017</td>\n",
       "      <td>12</td>\n",
       "      <td>6</td>\n",
       "      <td>14:00</td>\n",
       "    </tr>\n",
       "    <tr>\n",
       "      <th>3</th>\n",
       "      <td>1.\\n                    \\t14:05 Kõrgemate riig...</td>\n",
       "      <td>http://stenogrammid.riigikogu.ee/et/201712061400</td>\n",
       "      <td>Esimees Eiki Nestor</td>\n",
       "      <td>PKP-21950</td>\n",
       "      <td>Alustame tänaste päevakorrapunktide menetlemis...</td>\n",
       "      <td>2017</td>\n",
       "      <td>12</td>\n",
       "      <td>6</td>\n",
       "      <td>14:05</td>\n",
       "    </tr>\n",
       "    <tr>\n",
       "      <th>4</th>\n",
       "      <td>1.\\n                    \\t14:05 Kõrgemate riig...</td>\n",
       "      <td>http://stenogrammid.riigikogu.ee/et/201712061400</td>\n",
       "      <td>Artur Talvik</td>\n",
       "      <td>PKP-21950</td>\n",
       "      <td>Hea esimees! Head Riigikogu liikmed! Vabaerako...</td>\n",
       "      <td>2017</td>\n",
       "      <td>12</td>\n",
       "      <td>6</td>\n",
       "      <td>14:05</td>\n",
       "    </tr>\n",
       "  </tbody>\n",
       "</table>\n",
       "</div>"
      ],
      "text/plain": [
       "                                             heading  \\\n",
       "0                          14:00 Istungi rakendamine   \n",
       "1                          14:00 Istungi rakendamine   \n",
       "2                          14:00 Istungi rakendamine   \n",
       "3  1.\\n                    \\t14:05 Kõrgemate riig...   \n",
       "4  1.\\n                    \\t14:05 Kõrgemate riig...   \n",
       "\n",
       "                                               link              speaker  \\\n",
       "0  http://stenogrammid.riigikogu.ee/et/201712061400  Esimees Eiki Nestor   \n",
       "1  http://stenogrammid.riigikogu.ee/et/201712061400          Priit Sibul   \n",
       "2  http://stenogrammid.riigikogu.ee/et/201712061400  Esimees Eiki Nestor   \n",
       "3  http://stenogrammid.riigikogu.ee/et/201712061400  Esimees Eiki Nestor   \n",
       "4  http://stenogrammid.riigikogu.ee/et/201712061400         Artur Talvik   \n",
       "\n",
       "  subpart_id                                               text  year  month  \\\n",
       "0  PKP-21949  Austatud Riigikogu, tere päevast! Teate mis, s...  2017     12   \n",
       "1  PKP-21949  Austatud Riigikogu esimees! Head kolleegid! An...  2017     12   \n",
       "2  PKP-21949  Rohkem soove ei ole. Olen vastu võtnud kaks ee...  2017     12   \n",
       "3  PKP-21950  Alustame tänaste päevakorrapunktide menetlemis...  2017     12   \n",
       "4  PKP-21950  Hea esimees! Head Riigikogu liikmed! Vabaerako...  2017     12   \n",
       "\n",
       "   day   time  \n",
       "0    6  14:00  \n",
       "1    6  14:00  \n",
       "2    6  14:00  \n",
       "3    6  14:05  \n",
       "4    6  14:05  "
      ]
     },
     "execution_count": 3,
     "metadata": {},
     "output_type": "execute_result"
    }
   ],
   "source": [
    "df.head()"
   ]
  },
  {
   "cell_type": "markdown",
   "metadata": {},
   "source": [
    "#### Save text only"
   ]
  },
  {
   "cell_type": "code",
   "execution_count": 4,
   "metadata": {},
   "outputs": [],
   "source": [
    "df[['text']].to_csv('data/interim/text.txt',index=False, header=False)"
   ]
  },
  {
   "cell_type": "markdown",
   "metadata": {},
   "source": [
    "## Params to change"
   ]
  },
  {
   "cell_type": "code",
   "execution_count": 18,
   "metadata": {},
   "outputs": [],
   "source": [
    "input_file='data/interim/text.txt'\n",
    "model_path='tokenizers'\n",
    "vocab_sizes=[1000, 5000, 10000, 20000]\n",
    "model_types=['unigram', 'bpe']\n",
    "normalization_rule_names=['nmt_nfkc','nfkc', 'nmt_nfkc_cf', 'nfkc_cf', 'identity']"
   ]
  },
  {
   "cell_type": "markdown",
   "metadata": {},
   "source": [
    "## Helpers"
   ]
  },
  {
   "cell_type": "code",
   "execution_count": 19,
   "metadata": {},
   "outputs": [],
   "source": [
    "def train_spt_model(input_file, vocab_size, model_type, normalization_rule_name, model_path):\n",
    "    model_prefix=f'{model_path}/{model_type}_vocab_size_{vocab_size}_norm_{normalization_rule_name}'\n",
    "    print(f'Training model {model_prefix}')\n",
    "    spm.SentencePieceTrainer.Train(f'--input={input_file} --model_prefix={model_prefix} --vocab_size={vocab_size} --model_type={model_type} --normalization_rule_name={normalization_rule_name}')"
   ]
  },
  {
   "cell_type": "code",
   "execution_count": 20,
   "metadata": {},
   "outputs": [],
   "source": [
    "def train_spt_models(input_file, vocab_sizes, model_types, normalization_rule_names, model_path):\n",
    "    for vocab_size in vocab_sizes:\n",
    "        for model_type in model_types:\n",
    "            for normalization_rule_name in normalization_rule_names:\n",
    "                train_spt_model(input_file, vocab_size, model_type, normalization_rule_name, model_path)"
   ]
  },
  {
   "cell_type": "markdown",
   "metadata": {},
   "source": [
    "## Train models"
   ]
  },
  {
   "cell_type": "code",
   "execution_count": 21,
   "metadata": {},
   "outputs": [
    {
     "name": "stdout",
     "output_type": "stream",
     "text": [
      "Training model tokenizers/unigram_vocab_size_1000_norm_nmt_nfkc\n",
      "Training model tokenizers/unigram_vocab_size_1000_norm_nfkc\n",
      "Training model tokenizers/unigram_vocab_size_1000_norm_nmt_nfkc_cf\n",
      "Training model tokenizers/unigram_vocab_size_1000_norm_nfkc_cf\n",
      "Training model tokenizers/unigram_vocab_size_1000_norm_identity\n",
      "Training model tokenizers/bpe_vocab_size_1000_norm_nmt_nfkc\n",
      "Training model tokenizers/bpe_vocab_size_1000_norm_nfkc\n",
      "Training model tokenizers/bpe_vocab_size_1000_norm_nmt_nfkc_cf\n",
      "Training model tokenizers/bpe_vocab_size_1000_norm_nfkc_cf\n",
      "Training model tokenizers/bpe_vocab_size_1000_norm_identity\n",
      "Training model tokenizers/unigram_vocab_size_5000_norm_nmt_nfkc\n",
      "Training model tokenizers/unigram_vocab_size_5000_norm_nfkc\n",
      "Training model tokenizers/unigram_vocab_size_5000_norm_nmt_nfkc_cf\n",
      "Training model tokenizers/unigram_vocab_size_5000_norm_nfkc_cf\n",
      "Training model tokenizers/unigram_vocab_size_5000_norm_identity\n",
      "Training model tokenizers/bpe_vocab_size_5000_norm_nmt_nfkc\n",
      "Training model tokenizers/bpe_vocab_size_5000_norm_nfkc\n",
      "Training model tokenizers/bpe_vocab_size_5000_norm_nmt_nfkc_cf\n",
      "Training model tokenizers/bpe_vocab_size_5000_norm_nfkc_cf\n",
      "Training model tokenizers/bpe_vocab_size_5000_norm_identity\n",
      "Training model tokenizers/unigram_vocab_size_10000_norm_nmt_nfkc\n",
      "Training model tokenizers/unigram_vocab_size_10000_norm_nfkc\n",
      "Training model tokenizers/unigram_vocab_size_10000_norm_nmt_nfkc_cf\n",
      "Training model tokenizers/unigram_vocab_size_10000_norm_nfkc_cf\n",
      "Training model tokenizers/unigram_vocab_size_10000_norm_identity\n",
      "Training model tokenizers/bpe_vocab_size_10000_norm_nmt_nfkc\n",
      "Training model tokenizers/bpe_vocab_size_10000_norm_nfkc\n",
      "Training model tokenizers/bpe_vocab_size_10000_norm_nmt_nfkc_cf\n",
      "Training model tokenizers/bpe_vocab_size_10000_norm_nfkc_cf\n",
      "Training model tokenizers/bpe_vocab_size_10000_norm_identity\n",
      "Training model tokenizers/unigram_vocab_size_20000_norm_nmt_nfkc\n",
      "Training model tokenizers/unigram_vocab_size_20000_norm_nfkc\n",
      "Training model tokenizers/unigram_vocab_size_20000_norm_nmt_nfkc_cf\n",
      "Training model tokenizers/unigram_vocab_size_20000_norm_nfkc_cf\n",
      "Training model tokenizers/unigram_vocab_size_20000_norm_identity\n",
      "Training model tokenizers/bpe_vocab_size_20000_norm_nmt_nfkc\n",
      "Training model tokenizers/bpe_vocab_size_20000_norm_nfkc\n",
      "Training model tokenizers/bpe_vocab_size_20000_norm_nmt_nfkc_cf\n",
      "Training model tokenizers/bpe_vocab_size_20000_norm_nfkc_cf\n",
      "Training model tokenizers/bpe_vocab_size_20000_norm_identity\n"
     ]
    }
   ],
   "source": [
    "train_spt_models(input_file, vocab_sizes, model_types, normalization_rule_names, model_path)"
   ]
  },
  {
   "cell_type": "markdown",
   "metadata": {},
   "source": [
    "## Load trained model"
   ]
  },
  {
   "cell_type": "code",
   "execution_count": 8,
   "metadata": {},
   "outputs": [],
   "source": [
    "st = spm.SentencePieceProcessor()"
   ]
  },
  {
   "cell_type": "code",
   "execution_count": 9,
   "metadata": {},
   "outputs": [
    {
     "data": {
      "text/plain": [
       "True"
      ]
     },
     "execution_count": 9,
     "metadata": {},
     "output_type": "execute_result"
    }
   ],
   "source": [
    "st.Load('models/m.model')"
   ]
  },
  {
   "cell_type": "markdown",
   "metadata": {},
   "source": [
    "## Tokenize"
   ]
  },
  {
   "cell_type": "code",
   "execution_count": 10,
   "metadata": {},
   "outputs": [
    {
     "data": {
      "text/plain": [
       "['▁K', 'al', 'li', 'd', '▁r', 'i', 'i', 'gi', 'kogu', '▁', 'liikme', 'd', '.']"
      ]
     },
     "execution_count": 10,
     "metadata": {},
     "output_type": "execute_result"
    }
   ],
   "source": [
    "st.SampleEncodeAsPieces('Kallid riigikogu liikmed.', -1, 0.1)"
   ]
  },
  {
   "cell_type": "code",
   "execution_count": 11,
   "metadata": {},
   "outputs": [
    {
     "data": {
      "text/plain": [
       "['▁Ka', 'lli', 'd', '▁riigi', 'kogu', '▁liikmed']"
      ]
     },
     "execution_count": 11,
     "metadata": {},
     "output_type": "execute_result"
    }
   ],
   "source": [
    "st.SampleEncodeAsPieces('Kallid riigikogu liikmed', -1, 0.5)"
   ]
  },
  {
   "cell_type": "code",
   "execution_count": 12,
   "metadata": {},
   "outputs": [
    {
     "data": {
      "text/plain": [
       "['▁Ka', 'lli', 'd', '▁riigi', 'kogu', '▁liikmed']"
      ]
     },
     "execution_count": 12,
     "metadata": {},
     "output_type": "execute_result"
    }
   ],
   "source": [
    "st.SampleEncodeAsPieces('Kallid riigikogu liikmed', -1, 1)"
   ]
  },
  {
   "cell_type": "code",
   "execution_count": 21,
   "metadata": {},
   "outputs": [
    {
     "data": {
      "text/plain": [
       "['▁K', 'al', 'l', 'i', 'd', '▁riigi', 'ko', 'gu', '▁', 'liikme', 'd']"
      ]
     },
     "execution_count": 21,
     "metadata": {},
     "output_type": "execute_result"
    }
   ],
   "source": [
    "st.SampleEncodeAsPieces('Kallid riigikogu liikmed', -1, 0.1)"
   ]
  },
  {
   "cell_type": "code",
   "execution_count": 20,
   "metadata": {},
   "outputs": [
    {
     "data": {
      "text/plain": [
       "['▁Ka', 'lli', 'd', '▁riigi', 'kogu', '▁liikmed']"
      ]
     },
     "execution_count": 20,
     "metadata": {},
     "output_type": "execute_result"
    }
   ],
   "source": [
    "st.EncodeAsPieces('Kallid riigikogu liikmed')"
   ]
  },
  {
   "cell_type": "code",
   "execution_count": 32,
   "metadata": {},
   "outputs": [
    {
     "data": {
      "text/plain": [
       "list"
      ]
     },
     "execution_count": 32,
     "metadata": {},
     "output_type": "execute_result"
    }
   ],
   "source": [
    "type(st.EncodeAsPieces('Kallid riigikogu liikmed'))"
   ]
  },
  {
   "cell_type": "code",
   "execution_count": 33,
   "metadata": {},
   "outputs": [
    {
     "data": {
      "text/plain": [
       "str"
      ]
     },
     "execution_count": 33,
     "metadata": {},
     "output_type": "execute_result"
    }
   ],
   "source": [
    "type(st.EncodeAsPieces('Kallid riigikogu liikmed')[0])"
   ]
  },
  {
   "cell_type": "code",
   "execution_count": 22,
   "metadata": {},
   "outputs": [
    {
     "data": {
      "text/plain": [
       "10000"
      ]
     },
     "execution_count": 22,
     "metadata": {},
     "output_type": "execute_result"
    }
   ],
   "source": [
    "len(st)"
   ]
  },
  {
   "cell_type": "code",
   "execution_count": 25,
   "metadata": {},
   "outputs": [
    {
     "ename": "TypeError",
     "evalue": "not a string",
     "output_type": "error",
     "traceback": [
      "\u001b[0;31m---------------------------------------------------------------------------\u001b[0m",
      "\u001b[0;31mTypeError\u001b[0m                                 Traceback (most recent call last)",
      "\u001b[0;32m<ipython-input-25-c3713446e84e>\u001b[0m in \u001b[0;36m<module>\u001b[0;34m\u001b[0m\n\u001b[0;32m----> 1\u001b[0;31m \u001b[0mlist\u001b[0m\u001b[0;34m(\u001b[0m\u001b[0mst\u001b[0m\u001b[0;34m)\u001b[0m\u001b[0;34m\u001b[0m\u001b[0m\n\u001b[0m",
      "\u001b[0;32m/opt/v36torch1.1.0/lib/python3.6/site-packages/sentencepiece.py\u001b[0m in \u001b[0;36m__getitem__\u001b[0;34m(self, key)\u001b[0m\n\u001b[1;32m    296\u001b[0m \u001b[0;34m\u001b[0m\u001b[0m\n\u001b[1;32m    297\u001b[0m     \u001b[0;32mdef\u001b[0m \u001b[0m__getitem__\u001b[0m\u001b[0;34m(\u001b[0m\u001b[0mself\u001b[0m\u001b[0;34m,\u001b[0m \u001b[0mkey\u001b[0m\u001b[0;34m)\u001b[0m\u001b[0;34m:\u001b[0m\u001b[0;34m\u001b[0m\u001b[0m\n\u001b[0;32m--> 298\u001b[0;31m         \u001b[0;32mreturn\u001b[0m \u001b[0m_sentencepiece\u001b[0m\u001b[0;34m.\u001b[0m\u001b[0mSentencePieceProcessor___getitem__\u001b[0m\u001b[0;34m(\u001b[0m\u001b[0mself\u001b[0m\u001b[0;34m,\u001b[0m \u001b[0mkey\u001b[0m\u001b[0;34m)\u001b[0m\u001b[0;34m\u001b[0m\u001b[0m\n\u001b[0m\u001b[1;32m    299\u001b[0m \u001b[0mSentencePieceProcessor_swigregister\u001b[0m \u001b[0;34m=\u001b[0m \u001b[0m_sentencepiece\u001b[0m\u001b[0;34m.\u001b[0m\u001b[0mSentencePieceProcessor_swigregister\u001b[0m\u001b[0;34m\u001b[0m\u001b[0m\n\u001b[1;32m    300\u001b[0m \u001b[0mSentencePieceProcessor_swigregister\u001b[0m\u001b[0;34m(\u001b[0m\u001b[0mSentencePieceProcessor\u001b[0m\u001b[0;34m)\u001b[0m\u001b[0;34m\u001b[0m\u001b[0m\n",
      "\u001b[0;31mTypeError\u001b[0m: not a string"
     ]
    }
   ],
   "source": [
    "list(st)"
   ]
  },
  {
   "cell_type": "code",
   "execution_count": 26,
   "metadata": {},
   "outputs": [
    {
     "data": {
      "text/plain": [
       "<Swig Object of type 'sentencepiece::SentencePieceProcessor *' at 0x7ff6924faa20>"
      ]
     },
     "execution_count": 26,
     "metadata": {},
     "output_type": "execute_result"
    }
   ],
   "source": []
  },
  {
   "cell_type": "code",
   "execution_count": null,
   "metadata": {},
   "outputs": [],
   "source": []
  }
 ],
 "metadata": {
  "kernelspec": {
   "display_name": "v36torch1.1.0",
   "language": "python",
   "name": "v36torch1.1.0"
  },
  "language_info": {
   "codemirror_mode": {
    "name": "ipython",
    "version": 3
   },
   "file_extension": ".py",
   "mimetype": "text/x-python",
   "name": "python",
   "nbconvert_exporter": "python",
   "pygments_lexer": "ipython3",
   "version": "3.6.6"
  }
 },
 "nbformat": 4,
 "nbformat_minor": 2
}
